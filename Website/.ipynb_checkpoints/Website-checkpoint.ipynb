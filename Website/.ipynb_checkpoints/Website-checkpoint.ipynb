{
 "cells": [
  {
   "cell_type": "markdown",
   "metadata": {},
   "source": [
    "# CS194-26 Project 2 - Fun with Filters and Frequencies"
   ]
  },
  {
   "cell_type": "markdown",
   "metadata": {},
   "source": [
    "Shreyas Patankar"
   ]
  },
  {
   "cell_type": "markdown",
   "metadata": {},
   "source": [
    "## Part 1: Fun with Filters"
   ]
  },
  {
   "cell_type": "markdown",
   "metadata": {},
   "source": [
    "### 1.1 Finite Difference Operator"
   ]
  },
  {
   "cell_type": "markdown",
   "metadata": {},
   "source": [
    "Our goal in this part was to capture the edges of the photographer image. The original image is displayed below:\n",
    "<table><tr>\n",
    "<td> <img src=\"cameraman.png\" width=\"300\" height=\"300\"> </td>\n",
    "</tr></table>\n",
    "\n",
    "The gradient in the x and y directions, respectively, look like this:\n",
    "<table><tr>\n",
    "<td> <img src=\"cman1.1dx.png\" width=\"300\" height=\"300\"> </td>\n",
    "<td> <img src=\"cman1.1dy.png\" width=\"300\" height=\"300\"> </td>\n",
    "</tr></table>\n",
    "\n",
    "<table><tr>\n",
    "<td> <img src=\"cman1.1dxbinarized.png\" width=\"300\" height=\"300\"> </td>\n",
    "<td> <img src=\"cman1.1dybinarized.png\" width=\"300\" height=\"300\"> </td>\n",
    "</tr></table>\n",
    "\n",
    "After a bit of tinkering, I found that the best threshold to use for binarization was ~0.2 for both images."
   ]
  },
  {
   "cell_type": "markdown",
   "metadata": {},
   "source": [
    "### 1.2 Derivative of Gaussian (DoG) Filter"
   ]
  },
  {
   "cell_type": "markdown",
   "metadata": {},
   "source": [
    "In this part, the goal was to blur the photographer image so that edges would be captured more easily. The original & blurred images are displayed side by side below:\n",
    "<table><tr>\n",
    "<td> <img src=\"cameraman.png\" width=\"300\" height=\"300\"> </td>\n",
    "<td> <img src=\"cmanblurred.png\" width=\"300\" height=\"300\"> </td>\n",
    "</tr></table>\n",
    "\n",
    "The gradient in the x and y directions, respectively, using the blurred image now look like this:\n",
    "<table><tr>\n",
    "<td> <img src=\"cmanblur1.2dx.png\" width=\"300\" height=\"300\"> </td>\n",
    "<td> <img src=\"cmanblur1.2dy.png\" width=\"300\" height=\"300\"> </td>\n",
    "</tr></table>\n",
    "\n",
    "<table><tr>\n",
    "<td> <img src=\"cmanblur1.2dxbinarized.png\" width=\"300\" height=\"300\"> </td>\n",
    "<td> <img src=\"cmanblur1.2dybinarized.png\" width=\"300\" height=\"300\"> </td>\n",
    "</tr></table>\n",
    "\n",
    "We also convolve dx and dy on the gaussian filter first, then apply it to the original image. The binarized results are identical, as shown below:\n",
    "\n",
    "<table><tr>\n",
    "<td> <img src=\"cmanblur1.2dxbinarizeddog.png\" width=\"300\" height=\"300\"> </td>\n",
    "<td> <img src=\"cmanblur1.2dybinarizeddog.png\" width=\"300\" height=\"300\"> </td>\n",
    "</tr></table>"
   ]
  },
  {
   "cell_type": "markdown",
   "metadata": {},
   "source": [
    "### 1.3 Image Straightening"
   ]
  },
  {
   "cell_type": "markdown",
   "metadata": {},
   "source": [
    "In this part, we were required to straighten a given image by chosing the rotation with the greatest horizontal/vertical edges. The basic case is shown below (the final image is slightly cropped for clarity):\n",
    "\n",
    "<table><tr>\n",
    "<td> <img src=\"facade.jpg\" width=\"300\" height=\"300\"> </td>\n",
    "<td> <img src=\"facade_st1.png\" width=\"300\" height=\"300\"> </td>\n",
    "<td> <img src=\"facade_hist.png\" width=\"300\" height=\"300\"> </td>\n",
    "</tr></table>\n",
    "\n",
    "Here is another successful example:\n",
    "\n",
    "<table><tr>\n",
    "<td> <img src=\"pisa.jpg\" width=\"300\" height=\"300\"> </td>\n",
    "<td> <img src=\"pisa_str.png\" width=\"300\" height=\"300\"> </td>\n",
    "<td> <img src=\"pisa_hist.png\" width=\"300\" height=\"300\"> </td>\n",
    "</tr></table>\n",
    "\n",
    "Here is a failure case:\n",
    "\n",
    "<table><tr>\n",
    "<td> <img src=\"chevron.png\" width=\"300\" height=\"300\"> </td>\n",
    "<td> <img src=\"chev_str.png\" width=\"300\" height=\"300\"> </td>\n",
    "<td> <img src=\"chev_hist.png\" width=\"300\" height=\"300\"> </td>\n",
    "</tr></table>"
   ]
  },
  {
   "cell_type": "markdown",
   "metadata": {},
   "source": [
    "## Part 2: Fun with Frequencies!"
   ]
  },
  {
   "cell_type": "markdown",
   "metadata": {},
   "source": [
    "### 2.1 Image \"Sharpening\""
   ]
  },
  {
   "cell_type": "markdown",
   "metadata": {},
   "source": [
    "In this part, we implemented the unsharp mask filter to sharpen given images. The goal was to enhance the higher frequencies in order to make the image look \"sharper.\" The results for the Taj Mahal are shown below (unsharpened on left and sharpened on right):\n",
    "\n",
    "<table><tr>\n",
    "<td> <img src=\"taj.jpg\" width=\"300\" height=\"300\"> </td>\n",
    "<td> <img src=\"sharp_taj.jpg\" width=\"300\" height=\"300\"> </td>\n",
    "</tr></table>\n",
    "\n",
    "Here are results for additional images (unsharp on left, sharp on right):\n",
    "\n",
    "<table><tr>\n",
    "<td> <img src=\"macaw.jpg\" height=\"200\" width=\"200\"> </td>\n",
    "<td> <img src=\"sharp_macaw.jpg\" height=\"200\" width=\"200\"> </td>\n",
    "</tr></table>\n",
    "\n",
    "<table><tr>\n",
    "<td> <img src=\"tree.jpg\" height=\"200\" width=\"200\"> </td>\n",
    "<td> <img src=\"sharp_tree.jpg\" height=\"200\" width=\"200\"> </td>\n",
    "</tr></table>\n",
    "\n",
    "I also tried blurring a sharp image, then resharpening it. However, by blurring, we lose the high frequencies that allow us to sharpen in the first place. See results below (original on left, blurred in middle, resharpened on right) - you may need to zoom in to see intricacies more clearly, I used a small alpha:\n",
    "\n",
    "<table><tr>\n",
    "<td> <img src=\"petunia.jpg\" height=\"200\" width=\"200\"> </td>\n",
    "<td> <img src=\"blurry_petunia.jpg\" height=\"200\" width=\"200\"> </td>\n",
    "<td> <img src=\"resharp_petunia.jpg\" height=\"200\" width=\"200\"> </td>\n",
    "</tr></table>"
   ]
  },
  {
   "cell_type": "markdown",
   "metadata": {},
   "source": [
    "### 2.2 Hybrid Images"
   ]
  },
  {
   "cell_type": "markdown",
   "metadata": {},
   "source": [
    "The goal in this part was to generate hybrid images--we wanted to capitalize on the fact that our eyes are more sensitive to high frequencies from up close, and low frequencies from far away. Thus, we extracted these two parts from two images and combined them into a sort of hybrid image. Results below:\n",
    "\n",
    "<table><tr>\n",
    "<td> <img src=\"derek.jpg\" height=\"400\" width=\"200\"> </td>\n",
    "<td> <img src=\"nutmeg.jpg\" height=\"400\" width=\"200\"> </td>\n",
    "<td> <img src=\"hybriddn.png\" height=\"400\" width=\"200\"> </td>\n",
    "</tr></table>\n",
    "\n",
    "<table><tr>\n",
    "<td> <img src=\"derekfourier.png\" height=\"400\" width=\"200\"> </td>\n",
    "<td> <img src=\"nutmegfourier.png\" height=\"400\" width=\"200\"> </td>\n",
    "<td> <img src=\"hybfourier.png\" height=\"400\" width=\"200\"> </td>\n",
    "</tr></table>\n",
    "\n",
    "Here is another example:\n",
    "\n",
    "<table><tr>\n",
    "<td> <img src=\"nutmeg.jpg\" height=\"400\" width=\"200\"> </td>\n",
    "<td> <img src=\"grylls.jpg\" height=\"400\" width=\"200\"> </td>\n",
    "<td> <img src=\"hybrid3.png\" height=\"400\" width=\"200\"> </td>\n",
    "</tr></table>\n",
    "\n",
    "<table><tr>\n",
    "<td> <img src=\"nutmegfourier.png\" height=\"400\" width=\"200\"> </td>\n",
    "<td> <img src=\"gryllsfourier1.png\" height=\"400\" width=\"200\"> </td>\n",
    "<td> <img src=\"hybfourier3.png\" height=\"400\" width=\"200\"> </td>\n",
    "</tr></table>\n",
    "\n",
    "\n",
    "Here is a failed example. While the hair portion works, the faces do not meld well (perhaps because one is a painting and one is a photograph).\n",
    "\n",
    "<table><tr>\n",
    "<td> <img src=\"trump.jpg\" height=\"400\" width=\"200\"> </td>\n",
    "<td> <img src=\"washington.jpg\" height=\"400\" width=\"200\"> </td>\n",
    "<td> <img src=\"hybrid1.png\" height=\"400\" width=\"200\"> </td>\n",
    "</tr></table>\n",
    "\n",
    "<table><tr>\n",
    "<td> <img src=\"trumpfourier.jpg\" height=\"400\" width=\"200\"> </td>\n",
    "<td> <img src=\"washfourier.png\" height=\"400\" width=\"200\"> </td>\n",
    "<td> <img src=\"hybfourier2.png\" height=\"400\" width=\"200\"> </td>\n",
    "</tr></table>"
   ]
  },
  {
   "cell_type": "markdown",
   "metadata": {},
   "source": [
    "### 2.3 Gaussian/Laplacian Stacks"
   ]
  },
  {
   "cell_type": "markdown",
   "metadata": {},
   "source": [
    "In this part, we had to implement Gaussian & Laplacian stacks. We create the Gaussian stack by blurring the image more and more at each successive layer. For the Laplacian, we subtract the new Gaussian from the original image at each layer. Here is an example with the Mona Lisa (Gaussian on top, Laplacian on bottom):\n",
    "<img src=\"monalisa.jpg\" height=\"400\" width=\"200\">\n",
    "\n",
    "<table><tr>\n",
    "<td> <img src=\"g1.png\" height=\"400\" width=\"200\"> </td>\n",
    "<td> <img src=\"g2.png\" height=\"400\" width=\"200\"> </td>\n",
    "<td> <img src=\"g3.png\" height=\"400\" width=\"200\"> </td>\n",
    "<td> <img src=\"g4.png\" height=\"400\" width=\"200\"> </td>\n",
    "<td> <img src=\"g5.png\" height=\"400\" width=\"200\"> </td>\n",
    "</tr></table>\n",
    "<table><tr>\n",
    "<td> <img src=\"l1.png\" height=\"400\" width=\"200\"> </td>\n",
    "<td> <img src=\"l2.png\" height=\"400\" width=\"200\"> </td>\n",
    "<td> <img src=\"l3.png\" height=\"400\" width=\"200\"> </td>\n",
    "<td> <img src=\"l4.png\" height=\"400\" width=\"200\"> </td>\n",
    "<td> <img src=\"l5.png\" height=\"400\" width=\"200\"> </td>\n",
    "</tr></table>\n",
    "\n",
    "Here is a second example with the hybrid image from before:\n",
    "<img src=\"hybriddn.png\" height=\"400\" width=\"200\">\n",
    "\n",
    "<table><tr>\n",
    "<td> <img src=\"g11.png\" height=\"400\" width=\"200\"> </td>\n",
    "<td> <img src=\"g22.png\" height=\"400\" width=\"200\"> </td>\n",
    "<td> <img src=\"g33.png\" height=\"400\" width=\"200\"> </td>\n",
    "<td> <img src=\"g44.png\" height=\"400\" width=\"200\"> </td>\n",
    "<td> <img src=\"g55.png\" height=\"400\" width=\"200\"> </td>\n",
    "</tr></table>\n",
    "<table><tr>\n",
    "<td> <img src=\"l11.png\" height=\"400\" width=\"200\"> </td>\n",
    "<td> <img src=\"l22.png\" height=\"400\" width=\"200\"> </td>\n",
    "<td> <img src=\"l33.png\" height=\"400\" width=\"200\"> </td>\n",
    "<td> <img src=\"l44.png\" height=\"400\" width=\"200\"> </td>\n",
    "<td> <img src=\"l55.png\" height=\"400\" width=\"200\"> </td>\n",
    "</tr></table>"
   ]
  },
  {
   "cell_type": "markdown",
   "metadata": {},
   "source": [
    "### 2.4 Multiresolution Blending"
   ]
  },
  {
   "cell_type": "markdown",
   "metadata": {},
   "source": [
    "The goal of this part was to blend (similar) images smoothly together. We first construct the Laplacian pyramid for each individual image, then slowly recombine them with a Gaussian pyramid of the combination mask. Behold: the oraple.\n",
    "\n",
    "<table><tr>\n",
    "<td> <img src=\"apple.jpeg\" height=\"400\" width=\"200\"> </td>\n",
    "<td> <img src=\"orange.jpeg\" height=\"400\" width=\"200\"> </td>\n",
    "<td> <img src=\"oraple.png\" height=\"400\" width=\"200\"> </td>\n",
    "</tr></table>\n",
    "\n",
    "Here is another example where blending was successful: \n",
    "\n",
    "<table><tr>\n",
    "<td> <img src=\"aang.png\" height=\"400\" width=\"200\"> </td>\n",
    "<td> <img src=\"avatarstate.png\" height=\"400\" width=\"200\"> </td>\n",
    "<td> <img src=\"aangatar.png\" height=\"400\" width=\"200\"> </td>\n",
    "</tr></table>\n",
    "\n",
    "And my personal favorite, here is a final example which uses an irregular mask:\n",
    "\n",
    "<table><tr>\n",
    "<td> <img src=\"washington.jpg\" height=\"400\" width=\"200\"> </td>\n",
    "<td> <img src=\"trump.jpg\" height=\"400\" width=\"200\"> </td>\n",
    "<td> <img src=\"trushington.png\" height=\"400\" width=\"200\"> </td>\n",
    "</tr></table>"
   ]
  }
 ],
 "metadata": {
  "kernelspec": {
   "display_name": "Python 3",
   "language": "python",
   "name": "python3"
  },
  "language_info": {
   "codemirror_mode": {
    "name": "ipython",
    "version": 3
   },
   "file_extension": ".py",
   "mimetype": "text/x-python",
   "name": "python",
   "nbconvert_exporter": "python",
   "pygments_lexer": "ipython3",
   "version": "3.6.5"
  }
 },
 "nbformat": 4,
 "nbformat_minor": 2
}
